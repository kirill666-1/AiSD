{
 "cells": [
  {
   "cell_type": "code",
   "execution_count": null,
   "id": "35b2036d",
   "metadata": {},
   "outputs": [],
   "source": [
    "# 8 практимум\n"
   ]
  },
  {
   "cell_type": "code",
   "execution_count": 1,
   "id": "2267aa00",
   "metadata": {},
   "outputs": [
    {
     "name": "stdout",
     "output_type": "stream",
     "text": [
      "[1, 3, 3, 2, 1, 3]\n"
     ]
    }
   ],
   "source": [
    "# 1\n",
    "\n",
    "l1 = ['1', '123', '123', '12', '1', '123']\n",
    "print([len(el) for el in l1])"
   ]
  },
  {
   "cell_type": "code",
   "execution_count": 13,
   "id": "d3b43053",
   "metadata": {},
   "outputs": [
    {
     "name": "stdout",
     "output_type": "stream",
     "text": [
      "3\n"
     ]
    }
   ],
   "source": [
    "# 2\n",
    "\n",
    "l1 = ['1', '123', '123', '12', '1', '123']\n",
    "print(len([el for el in l1 if len(el)>2]))"
   ]
  },
  {
   "cell_type": "code",
   "execution_count": 4,
   "id": "081edfbb",
   "metadata": {},
   "outputs": [
    {
     "name": "stdout",
     "output_type": "stream",
     "text": [
      "[2, 8, -6, -12, 0, 66, 21, -8]\n"
     ]
    }
   ],
   "source": [
    "# 3\n",
    "\n",
    "l2 = [2, 4, -2, -3, 0 , 11 , 3, -1]\n",
    "print([l2[i] * (i+1) for i in range(len(l2))])"
   ]
  },
  {
   "cell_type": "code",
   "execution_count": 5,
   "id": "6b77e3cf",
   "metadata": {},
   "outputs": [
    {
     "name": "stdout",
     "output_type": "stream",
     "text": [
      "[2, 4, 11, 3]\n"
     ]
    }
   ],
   "source": [
    "# 4 \n",
    "\n",
    "l2 = [2, 4, -2, -3, 0 , 11 , 3, -1]\n",
    "print([el for el in l2 if el>0])"
   ]
  },
  {
   "cell_type": "code",
   "execution_count": 6,
   "id": "a145c5a0",
   "metadata": {},
   "outputs": [
    {
     "name": "stdout",
     "output_type": "stream",
     "text": [
      "[2, 4, 3, 4, 5, 11, 3, 8]\n"
     ]
    }
   ],
   "source": [
    "# 5\n",
    "\n",
    "l2 = [2, 4, -2, -3, 0 , 11 , 3, -1]\n",
    "print([l2[el] if l2[el]>0 else el+1 for el in range(len(l2))])"
   ]
  },
  {
   "cell_type": "code",
   "execution_count": 7,
   "id": "273caade",
   "metadata": {},
   "outputs": [
    {
     "name": "stdout",
     "output_type": "stream",
     "text": [
      "{'a': 1, 'b': 2, 'c': 3, 'd': 4}\n"
     ]
    }
   ],
   "source": [
    "# 6\n",
    "\n",
    "l = 'abcd'\n",
    "print({l[el] : el+1 for el in range(len(l))})"
   ]
  },
  {
   "cell_type": "code",
   "execution_count": 8,
   "id": "a4a2da5a",
   "metadata": {},
   "outputs": [
    {
     "name": "stdout",
     "output_type": "stream",
     "text": [
      "3\n"
     ]
    }
   ],
   "source": [
    "# 7\n",
    "\n",
    "l1 = ['1', '123', '123', '12', '1', '123']\n",
    "d1={'12': 1, '22': 2, '1': 3,'2':5}\n",
    "print(len(list([el for el in l1 if el in d1])))"
   ]
  },
  {
   "cell_type": "code",
   "execution_count": 9,
   "id": "6d0ba21b",
   "metadata": {},
   "outputs": [
    {
     "name": "stdout",
     "output_type": "stream",
     "text": [
      "{'e': 2, 'v': 1, 'g': 1, 'n': 1, '_': 1, 'o': 1}\n"
     ]
    }
   ],
   "source": [
    "# 8\n",
    "l = 'evgen_o'\n",
    "print({l[el]: l.count(l[el]) for el in range(len(l))})"
   ]
  },
  {
   "cell_type": "code",
   "execution_count": 10,
   "id": "6733f97e",
   "metadata": {},
   "outputs": [
    {
     "name": "stdout",
     "output_type": "stream",
     "text": [
      "5\n"
     ]
    }
   ],
   "source": [
    "# 9 \n",
    "dict = {'e': 2, 'v': 1, 'g': 1, 'n': 1, '_': 1, 'o': 1}\n",
    "print(len([el for el in dict if el.islower()]))"
   ]
  },
  {
   "cell_type": "code",
   "execution_count": 11,
   "id": "0356fad1",
   "metadata": {},
   "outputs": [
    {
     "name": "stdout",
     "output_type": "stream",
     "text": [
      "[10, 40, 90, 160, 250, 360]\n"
     ]
    }
   ],
   "source": [
    "#10\n",
    "\n",
    "d4 = {1: 10, 2: 20, 3: 30, 4: 40, 5: 50, 6: 60}\n",
    "print([el * d4.get(el) for el in d4])"
   ]
  },
  {
   "cell_type": "code",
   "execution_count": 12,
   "id": "7c7f78ba",
   "metadata": {},
   "outputs": [
    {
     "name": "stdout",
     "output_type": "stream",
     "text": [
      "{'h': 23, 'i': 24, 'j': 25, 'k': 26, 'l': 27}\n"
     ]
    }
   ],
   "source": [
    "# 11\n",
    "d5 = {'a': 3, 'b': 4, 'c': 5, 'd': 6, 'e': 7, 'f': 8, 'g': 9}\n",
    "d6 = {'e': 20, 'f': 21, 'g': 22, 'h': 23, 'i': 24, 'j': 25, 'k': 26, 'l': 27}\n",
    "print({el: d6.get(el) for el in d6 if el not in d5})"
   ]
  },
  {
   "cell_type": "code",
   "execution_count": null,
   "id": "0422f24e",
   "metadata": {},
   "outputs": [],
   "source": []
  }
 ],
 "metadata": {
  "kernelspec": {
   "display_name": "Python 3 (ipykernel)",
   "language": "python",
   "name": "python3"
  },
  "language_info": {
   "codemirror_mode": {
    "name": "ipython",
    "version": 3
   },
   "file_extension": ".py",
   "mimetype": "text/x-python",
   "name": "python",
   "nbconvert_exporter": "python",
   "pygments_lexer": "ipython3",
   "version": "3.11.4"
  }
 },
 "nbformat": 4,
 "nbformat_minor": 5
}
